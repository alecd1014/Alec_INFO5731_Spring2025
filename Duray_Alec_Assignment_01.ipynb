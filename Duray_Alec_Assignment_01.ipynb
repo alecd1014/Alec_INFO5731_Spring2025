{
  "cells": [
    {
      "cell_type": "markdown",
      "metadata": {
        "id": "view-in-github",
        "colab_type": "text"
      },
      "source": [
        "<a href=\"https://colab.research.google.com/github/alecd1014/Alec_INFO5731_Spring2025/blob/main/Duray_Alec_Assignment_01.ipynb\" target=\"_parent\"><img src=\"https://colab.research.google.com/assets/colab-badge.svg\" alt=\"Open In Colab\"/></a>"
      ]
    },
    {
      "cell_type": "markdown",
      "metadata": {
        "id": "Ryk8D1Q4Wsrp"
      },
      "source": [
        "# **INFO5731 Assignment - 1**"
      ]
    },
    {
      "cell_type": "markdown",
      "source": [
        "This assignment includes range of programming tasks and data analysis exercises, aiming to enhance your Python skills and proficiency in string manipulation, numerical computations, and data science. Follow the instructions carefully and design well-structured Python programs to address each question.\n",
        "\n",
        "\n",
        "1.  Question 1-5 using AI assistance is strictly prohibted\n",
        "2.  Question 6-7 AI assitance is recommended by following guidelines.\n",
        "\n",
        "Guidelines and expectations file can be found in week 2 module.\n",
        "\n",
        "Late Submission will have a penalty of 10% reduction for each day after the deadline."
      ],
      "metadata": {
        "id": "qcP6re2g5A5r"
      }
    },
    {
      "cell_type": "markdown",
      "metadata": {
        "id": "JkzR8cFAyGik"
      },
      "source": [
        "# Question 1 (10 points).\n",
        "\n",
        "The formula that describes the volume V of a hemisphere with radius r is the following:\n",
        "\n",
        "$ V=\\frac{2}{3}\\ast\\ \\pi\\ast\\ r^3 $\n",
        "\n",
        "Write a program to calculate the value of V when r is in the range of even numbers from 1-20. Output the result in the following format:\n",
        "\n",
        "\tr\tV\n",
        "\t2\t…\n",
        "\t4\t…\n",
        "\t6\t…\n",
        "\t.\n",
        "\t.\n",
        "\t.\n",
        "\t20\t…\n"
      ]
    },
    {
      "cell_type": "code",
      "execution_count": null,
      "metadata": {
        "id": "jDyTKYs-yGit",
        "colab": {
          "base_uri": "https://localhost:8080/"
        },
        "outputId": "e05b4e28-f9da-41da-cf98-e72bb79b013b"
      },
      "outputs": [
        {
          "output_type": "stream",
          "name": "stdout",
          "text": [
            "               V\n",
            "r               \n",
            "2      16.755161\n",
            "4     134.041287\n",
            "6     452.389342\n",
            "8    1072.330292\n",
            "10   2094.395102\n",
            "12   3619.114737\n",
            "14   5747.020161\n",
            "16   8578.642339\n",
            "18  12214.512237\n",
            "20  16755.160819\n"
          ]
        }
      ],
      "source": [
        "# Your code here\n",
        "import math\n",
        "import pandas as pd\n",
        "def volume(r):\n",
        "  v = (2/3) * math.pi * (r**3)\n",
        "  return v #create function to calculate volume based on a given radius\n",
        "\n",
        "radius = [2,4,6,8,10,12,14,16,18,20] #create list of radius to be used\n",
        "result = map(volume, radius) #apply function to each radius in the list\n",
        "vol = list(result) #convert the results into list form\n",
        "\n",
        "df = pd.DataFrame(vol, index = radius, columns = ['V']) #create dataframe with the radius as the index and volume as the column\n",
        "df.index.name = 'r' #add heading to the radius column\n",
        "print(df)\n"
      ]
    },
    {
      "cell_type": "markdown",
      "metadata": {
        "id": "90_NR8c5XGWc"
      },
      "source": [
        "# Question 2 (10 points)\n",
        "\n",
        "(a) Write a Python program to generate a sequence of 12 random numbers falling within the range of 50 to 150.\n",
        "\n",
        "(b) Arrange the generated numbers in ascending order. Display the sorted list.\n",
        "\n",
        "(c) Extend the program to arrange the numbers in descending order as well. Present the sorted list accordingly.\n",
        "\n",
        "(d) Compute and output the average of the entire group of generated numbers.\n",
        "\n",
        "(e) Enhance the program to calculate and display the average of the first 6 numbers from both the ascending and descending sorted lists."
      ]
    },
    {
      "cell_type": "code",
      "execution_count": null,
      "metadata": {
        "id": "5QX6bJjGWXY9",
        "colab": {
          "base_uri": "https://localhost:8080/"
        },
        "outputId": "8949647c-ed6d-45ad-9a2f-0fba31194519"
      },
      "outputs": [
        {
          "output_type": "stream",
          "name": "stdout",
          "text": [
            "[ 50  66  69  89  90  99  99 122 122 129 135 145]\n",
            "[145 135 129 122 122  99  99  90  89  69  66  50]\n",
            "101.25\n",
            "72.8\n",
            "130.6\n"
          ]
        }
      ],
      "source": [
        "# Write code for each of the sub parts with proper comments.\n",
        "import numpy as np\n",
        "\n",
        "x = np.random.randint(50, 150, size = (12)) #create 12 random numbers within the range of 50 to 150\n",
        "\n",
        "x.sort() #sort the created numbers in ascending order\n",
        "print(x)\n",
        "\n",
        "descend = x[::-1] #arrange the created numbers in descending order\n",
        "print(descend)\n",
        "\n",
        "totavg = np.average(x) #find the average of all the created numbers\n",
        "print(totavg)\n",
        "\n",
        "six_ascend = x[0:5] #get the first six of the numbers sorted in ascending order\n",
        "avg_six = np.average(six_ascend) #find the average of those six numbers\n",
        "print(avg_six)\n",
        "\n",
        "six_descend = descend[0:5] #get the first six of the numbers sorted in descending order\n",
        "avg_dsix = np.average(six_descend) #find the average of those six numbers\n",
        "print(avg_dsix)\n",
        "\n"
      ]
    },
    {
      "cell_type": "markdown",
      "metadata": {
        "id": "1F_PZdH9Sh49"
      },
      "source": [
        "# Question 3 (10 points).\n",
        "\n",
        "Create a Python program that encompasses various string manipulation task:\n",
        "\n",
        "(a) Prompt the user to input two sentences.\n",
        "\n",
        "(b) Transform each sentence into a list, where each element corresponds to a word in the sentence. For example, if the sentences are \"Hello, how are you doing today?\" and \"This is an example sentence for the program!\"\n",
        "\n",
        "The program should output:\n",
        "['Hello', ',', 'how', 'are', 'you', 'doing', 'today', '?', 'This', 'is', 'an', 'example', 'sentence', 'for', 'the', 'program', '!']\n",
        "\n",
        "(c) Compare the two sentences. Print out a list of words that occur in both sentences.\n",
        "\n",
        "(d) Remove any punctuation from the sentence and print the sanitized sentences. It should remove at least the following characters, but it can remove more: period(“.”), comma (“,”), semicolon (“;”), and colon (“:”).\n",
        "\n",
        "(e) Count the number of vowels in each of the sentences. Print out each vowel and the occurrences  in the each of the two sentences separately, such as:\n",
        "\n",
        "Sentence1: a:2, e:2, i:0, etc.\n",
        "Sentence2: a:1, e:2, i:2, etc.\n",
        "\n",
        "Design a well-structured Python program to execute these tasks efficiently."
      ]
    },
    {
      "cell_type": "code",
      "execution_count": null,
      "metadata": {
        "id": "Y0oOSlsOS0cq",
        "colab": {
          "base_uri": "https://localhost:8080/"
        },
        "outputId": "69e45564-7acf-45ce-9961-674f0df837c9"
      },
      "outputs": [
        {
          "output_type": "stream",
          "name": "stdout",
          "text": [
            "Enter the first sentence: Hello, how are you doing today?\n",
            "Enter the second sentence: Hello, I am doing well today thank you.\n",
            "['Hello', ',', 'how', 'are', 'you', 'doing', 'today', '?']\n",
            "['Hello', ',', 'I', 'am', 'doing', 'well', 'today', 'thank', 'you', '.']\n",
            "['doing', 'today', 'Hello', ',', 'you']\n",
            "['Hello', 'how', 'are', 'you', 'doing', 'today']\n",
            "['Hello', 'I', 'am', 'doing', 'well', 'today', 'thank', 'you']\n",
            "Sentence 1: a: 2 e: 2 i: 1 o: 5 u: 1\n",
            "Sentence 2: a: 3 e: 2 i: 2 o: 4 u: 1\n"
          ]
        }
      ],
      "source": [
        "# Your code here\n",
        "\n",
        "import re\n",
        "\n",
        "a = str(input(\"Enter the first sentence: \")) #ask for the user to input the first sentence\n",
        "b = str(input(\"Enter the second sentence: \")) #ask for the user to input the second sentence\n",
        "\n",
        "sent_one = re.findall(r\"[\\w']+|[.,;:?!]\", a) #find punctuation marks in first sentence to separate them into indiviual indexes in each list\n",
        "sent_two = re.findall(r\"[\\w']+|[.,;:?!]\", b) #same as above with second sentence\n",
        "print(sent_one) #print first sentence as list\n",
        "print(sent_two) #print second sentence as list\n",
        "\n",
        "common = list(set(sent_one) & set(sent_two)) #convert lists into sets to find common values between the two\n",
        "print(common) #print common values between the two lists\n",
        "\n",
        "word_one = re.findall(r'\\b\\w+\\b', a) #find only words in first sentence excluding the punctuation\n",
        "word_two = re.findall(r'\\b\\w+\\b', b) #same as above with second sentence\n",
        "print(word_one) #print first sentence as list with only words\n",
        "print(word_two) #print second sentence as list with only words\n",
        "\n",
        "list_first = list(a) #convert first sentence into list of individual characters\n",
        "\n",
        "first_a = list_first.count('a') + list_first.count('A') #count number of times each vowel occurs in first sentence\n",
        "first_e = list_first.count('e') + list_first.count('E')\n",
        "first_i = list_first.count('i') + list_first.count('I')\n",
        "first_o = list_first.count('o') + list_first.count('O')\n",
        "first_u = list_first.count('u') + list_first.count('U')\n",
        "\n",
        "print('Sentence 1: a:', first_a, 'e:', first_e, 'i:', first_i, 'o:', first_o, 'u:', first_u) #print the results\n",
        "\n",
        "list_second = list(b) #convert second sentence into list of individual characters\n",
        "\n",
        "second_a = list_second.count('a') + list_second.count('A') #count number of times each vowel occurs in second sentence\n",
        "second_e = list_second.count('e') + list_second.count('E')\n",
        "second_i = list_second.count('i') + list_second.count('I')\n",
        "second_o = list_second.count('o') + list_second.count('O')\n",
        "second_u = list_second.count('u') + list_second.count('U')\n",
        "\n",
        "print('Sentence 2: a:', second_a, 'e:', second_e, 'i:', second_i, 'o:', second_o, 'u:', second_u) #print the results"
      ]
    },
    {
      "cell_type": "markdown",
      "source": [
        "# Question 4 (10 Points)"
      ],
      "metadata": {
        "id": "OP4-5qxAtInv"
      }
    },
    {
      "cell_type": "markdown",
      "source": [
        "Design and implement a simple command-line calculator program. The program should handle both integers and floating-point numbers.\n",
        "\n",
        "(a) Write program that takes a mathematical expression as input and evaluates it. The program should support addition, subtraction, multiplication, and division.\n",
        "\n",
        "(b) Extend the calculator to handle parentheses in mathematical expressions. Implement the necessary logic to evaluate expressions with nested parentheses.\n",
        "\n",
        "(c) Enhance your calculator to include additional mathematical operations such as exponentiation, square root, and modulus.\n",
        "\n",
        "(d) Implement error handling in the calculator program. Handle cases such as division by zero and invalid input expressions. Provide meaningful error messages.\n",
        "\n",
        "(e) Implement a command to exit the calculator."
      ],
      "metadata": {
        "id": "uzN4_hDptK9U"
      }
    },
    {
      "cell_type": "code",
      "source": [
        "# Your code here\n",
        "x = str(input(\"Please enter the expression: \"))\n",
        "\n",
        "def calculator(x):\n",
        "  num = 0\n",
        "  element = []\n",
        "  oper = \"+\"\n",
        "\n",
        "  for i in range(len(x)):\n",
        "    if x[i].isnumeric():\n",
        "      num = num * 10 + float(x[i])\n",
        "    if x[i] == \".\":\n",
        "      num = num + (float(x[i]) / 10)\n",
        "    if x[i] in \"+-*/\" or i == len(x) - 1:\n",
        "      if oper == \"+\":\n",
        "        element.append(num)\n",
        "      elif oper == \"-\":\n",
        "        element.append(-num)\n",
        "      elif oper == \"*\":\n",
        "        element.append(element.pop() * num)\n",
        "      else:\n",
        "        element.append(float(element.pop() / num))\n",
        "      num = 0\n",
        "      oper = x[i]\n",
        "  return sum(element)\n",
        "\n",
        "print(\"The answer to the expression:\", x, \"is:\", calculator(x))"
      ],
      "metadata": {
        "id": "8nQnVxjJuYtu",
        "colab": {
          "base_uri": "https://localhost:8080/",
          "height": 315
        },
        "outputId": "160afff5-db7e-4532-9ae1-5412059fce51"
      },
      "execution_count": null,
      "outputs": [
        {
          "name": "stdout",
          "output_type": "stream",
          "text": [
            "Please enter the expression: 1.1+1.9\n"
          ]
        },
        {
          "output_type": "error",
          "ename": "ValueError",
          "evalue": "could not convert string to float: '.'",
          "traceback": [
            "\u001b[0;31m---------------------------------------------------------------------------\u001b[0m",
            "\u001b[0;31mValueError\u001b[0m                                Traceback (most recent call last)",
            "\u001b[0;32m<ipython-input-15-81688198c336>\u001b[0m in \u001b[0;36m<cell line: 0>\u001b[0;34m()\u001b[0m\n\u001b[1;32m     25\u001b[0m   \u001b[0;32mreturn\u001b[0m \u001b[0msum\u001b[0m\u001b[0;34m(\u001b[0m\u001b[0melement\u001b[0m\u001b[0;34m)\u001b[0m\u001b[0;34m\u001b[0m\u001b[0;34m\u001b[0m\u001b[0m\n\u001b[1;32m     26\u001b[0m \u001b[0;34m\u001b[0m\u001b[0m\n\u001b[0;32m---> 27\u001b[0;31m \u001b[0mprint\u001b[0m\u001b[0;34m(\u001b[0m\u001b[0;34m\"The answer to the expression:\"\u001b[0m\u001b[0;34m,\u001b[0m \u001b[0mx\u001b[0m\u001b[0;34m,\u001b[0m \u001b[0;34m\"is:\"\u001b[0m\u001b[0;34m,\u001b[0m \u001b[0mcalculator\u001b[0m\u001b[0;34m(\u001b[0m\u001b[0mx\u001b[0m\u001b[0;34m)\u001b[0m\u001b[0;34m)\u001b[0m\u001b[0;34m\u001b[0m\u001b[0;34m\u001b[0m\u001b[0m\n\u001b[0m",
            "\u001b[0;32m<ipython-input-15-81688198c336>\u001b[0m in \u001b[0;36mcalculator\u001b[0;34m(x)\u001b[0m\n\u001b[1;32m     11\u001b[0m       \u001b[0mnum\u001b[0m \u001b[0;34m=\u001b[0m \u001b[0mnum\u001b[0m \u001b[0;34m*\u001b[0m \u001b[0;36m10\u001b[0m \u001b[0;34m+\u001b[0m \u001b[0mfloat\u001b[0m\u001b[0;34m(\u001b[0m\u001b[0mx\u001b[0m\u001b[0;34m[\u001b[0m\u001b[0mi\u001b[0m\u001b[0;34m]\u001b[0m\u001b[0;34m)\u001b[0m\u001b[0;34m\u001b[0m\u001b[0;34m\u001b[0m\u001b[0m\n\u001b[1;32m     12\u001b[0m     \u001b[0;32mif\u001b[0m \u001b[0mx\u001b[0m\u001b[0;34m[\u001b[0m\u001b[0mi\u001b[0m\u001b[0;34m]\u001b[0m \u001b[0;34m==\u001b[0m \u001b[0;34m\".\"\u001b[0m\u001b[0;34m:\u001b[0m\u001b[0;34m\u001b[0m\u001b[0;34m\u001b[0m\u001b[0m\n\u001b[0;32m---> 13\u001b[0;31m       \u001b[0mnum\u001b[0m \u001b[0;34m=\u001b[0m \u001b[0mnum\u001b[0m \u001b[0;34m+\u001b[0m \u001b[0;34m(\u001b[0m\u001b[0mfloat\u001b[0m\u001b[0;34m(\u001b[0m\u001b[0mx\u001b[0m\u001b[0;34m[\u001b[0m\u001b[0mi\u001b[0m\u001b[0;34m]\u001b[0m\u001b[0;34m)\u001b[0m \u001b[0;34m/\u001b[0m \u001b[0;36m10\u001b[0m\u001b[0;34m)\u001b[0m\u001b[0;34m\u001b[0m\u001b[0;34m\u001b[0m\u001b[0m\n\u001b[0m\u001b[1;32m     14\u001b[0m     \u001b[0;32mif\u001b[0m \u001b[0mx\u001b[0m\u001b[0;34m[\u001b[0m\u001b[0mi\u001b[0m\u001b[0;34m]\u001b[0m \u001b[0;32min\u001b[0m \u001b[0;34m\"+-*/\"\u001b[0m \u001b[0;32mor\u001b[0m \u001b[0mi\u001b[0m \u001b[0;34m==\u001b[0m \u001b[0mlen\u001b[0m\u001b[0;34m(\u001b[0m\u001b[0mx\u001b[0m\u001b[0;34m)\u001b[0m \u001b[0;34m-\u001b[0m \u001b[0;36m1\u001b[0m\u001b[0;34m:\u001b[0m\u001b[0;34m\u001b[0m\u001b[0;34m\u001b[0m\u001b[0m\n\u001b[1;32m     15\u001b[0m       \u001b[0;32mif\u001b[0m \u001b[0moper\u001b[0m \u001b[0;34m==\u001b[0m \u001b[0;34m\"+\"\u001b[0m\u001b[0;34m:\u001b[0m\u001b[0;34m\u001b[0m\u001b[0;34m\u001b[0m\u001b[0m\n",
            "\u001b[0;31mValueError\u001b[0m: could not convert string to float: '.'"
          ]
        }
      ]
    },
    {
      "cell_type": "markdown",
      "metadata": {
        "id": "z3tBE7E-Xn5X"
      },
      "source": [
        "# Question 5 (20 points).\n",
        "\n",
        "In the field of Data Science, data is often formatted as a comma-delimited (CSV) file, where each line in a file corresponds to a field's value. Refer to Chapter 9 (p. 106) for more information on comma-delimited files.\n",
        "\n",
        "To answer this question, you will need to download the file [Assignment1_denton_housing.csv](https://raw.githubusercontent.com/unt-iialab/info5731-spring2022/main/assignments/Assignment1_denton_housing.csv) included with this assignment. The file contains statistics about housing in the city of Denton from 2008 to 2014. Write a program to implement the following questions.\n",
        "\n",
        "(a) (5 pts) Calculate the difference in the number of Occupied Housing Units from year to year and print it. The difference must be calculated for the consecutive years such as 2008-2009, 2009-2010 etc. Finally, print the values in the ascending order.\n",
        "\n",
        "(b) (5 pts) For all the years, calculate the percentage of housing units which are vacant an occupied. Print the results in the following format:\n",
        "\n",
        "Year Vacant Housing Units Occupied Housing Units\n",
        "\n",
        "    2008  30%   70%                          \n",
        "\t2009 ----- -----\n",
        "\t2010 ----- -----\n",
        "    2011 ----- -----\n",
        "\t2012 ----- -----\n",
        "    2013 ----- -----\n",
        "\t2014 ----- -----\n",
        "  \n",
        "  \n",
        "\n",
        "(c) (5 pts) Calculate and print the valued and years in which the highest number of housing units were vacant and occupied. Print the results in the following format:  \n",
        "\n",
        "                              Year\tValue\n",
        "\tVacant Housing Units\t  -----   -----\n",
        "\tOccupied Housing Units\t-----   -----\n",
        "\n",
        "(d) (5 pts) Calculate the harmonic mean of the total housing units and print it out. You can find the information about harmonic mean here: https://ncalculators.com/statistics/harmonic-mean-calculator.htm"
      ]
    },
    {
      "cell_type": "code",
      "execution_count": null,
      "metadata": {
        "id": "lqGYuHBhcsRH",
        "colab": {
          "base_uri": "https://localhost:8080/"
        },
        "outputId": "93cd7e0f-e12d-4cf5-caab-a8d86baa6125"
      },
      "outputs": [
        {
          "output_type": "stream",
          "name": "stdout",
          "text": [
            "       Years  Difference\n",
            "3  2010-2011       303.0\n",
            "5  2008-2009       795.0\n",
            "2  2011-2012      1404.0\n",
            "1  2012-2013      1565.0\n",
            "0  2013-2014      2622.0\n",
            "4  2009-2010      5091.0\n",
            "   Year  Percent Vacant Housing  Percent Occupied Housing\n",
            "0  2008                   10.88                     89.12\n",
            "1  2009                    9.07                     90.93\n",
            "2  2010                    8.14                     91.86\n",
            "3  2011                    9.38                     90.62\n",
            "4  2012                    6.68                     93.32\n",
            "5  2013                    8.80                     91.20\n",
            "6  2014                    5.73                     94.27\n",
            "                        Year  Value\n",
            "Vacant Housing Units    2008   4483\n",
            "Occupied Housing Units  2014  46295\n",
            "44398.28543969185\n"
          ]
        }
      ],
      "source": [
        " # Your code here\n",
        "import os\n",
        "import pandas as pd\n",
        "import math\n",
        "import statistics\n",
        "\n",
        "os.path.exists('Assignment1_denton_housing.csv') #find the file path\n",
        "#part a\n",
        "df = pd.read_csv('Assignment1_denton_housing.csv') #read the file\n",
        "filtered_df = df[df['title_field'] == 'Occupied Housing Units'] #create dataframe with only occupied housing units\n",
        "\n",
        "list_df = list(filtered_df['value'].diff()) #create a list with the differences between number of occupied housing units between years\n",
        "list_df.pop(0) #remove the null value from the list\n",
        "list_df = [abs(x) for x in list_df] #remove negatives by using absolute value\n",
        "\n",
        "years = ['2013-2014', '2012-2013', '2011-2012', '2010-2011', '2009-2010', '2008-2009']\n",
        "data = {'Years': years, 'Difference': list_df}\n",
        "new_df=pd.DataFrame(data) #create dataframe list the year to year differences of occupied housing units\n",
        "sorted_df = new_df.sort_values(by='Difference') #sort the differences in ascending order\n",
        "\n",
        "print(sorted_df)\n",
        "#part b\n",
        "year = [2008, 2009, 2010, 2011, 2012, 2013, 2014] #list of years\n",
        "vacant = [] #list of percentage vacant\n",
        "occupied = [] #list of percentage occupied\n",
        "\n",
        "df_2008 = df[df['year'] == 2008] #narrow the dataframe to just the year 2008\n",
        "vacant_2008 = (df_2008.at[19, 'value'] / df_2008.at[18, 'value']) * 100 #calc the percentage based on the values for vacant housing and total housing\n",
        "vacant_2008 = float(\"{:.2f}\".format(vacant_2008)) #limit the answer to two decimal places\n",
        "vacant.append(vacant_2008) #add the answer to the vacant list above\n",
        "\n",
        "occupied_2008 = (df_2008.at[20, 'value'] / df_2008.at[18, 'value']) * 100 #calc the percentage based on the values for occupied housing and total housing\n",
        "occupied_2008 = float(\"{:.2f}\".format(occupied_2008)) #limit to two decimal places\n",
        "occupied.append(occupied_2008) #add the answer to the occupied list above\n",
        "\n",
        "df_2009 = df[df['year'] == 2009] #same but with 2009\n",
        "vacant_2009 = (df_2009.at[16, 'value'] / df_2009.at[15, 'value']) * 100\n",
        "vacant_2009 = float(\"{:.2f}\".format(vacant_2009))\n",
        "vacant.append(vacant_2009)\n",
        "\n",
        "occupied_2009 = (df_2009.at[17, 'value'] / df_2009.at[15, 'value']) * 100\n",
        "occupied_2009 = float(\"{:.2f}\".format(occupied_2009))\n",
        "occupied.append(occupied_2009)\n",
        "\n",
        "df_2010 = df[df['year'] == 2010] #same but with 2010\n",
        "vacant_2010 = (df_2010.at[13, 'value'] / df_2010.at[12, 'value']) * 100\n",
        "vacant_2010 = float(\"{:.2f}\".format(vacant_2010))\n",
        "vacant.append(vacant_2010)\n",
        "\n",
        "occupied_2010 = (df_2010.at[14, 'value'] / df_2010.at[12, 'value']) * 100\n",
        "occupied_2010 = float(\"{:.2f}\".format(occupied_2010))\n",
        "occupied.append(occupied_2010)\n",
        "\n",
        "df_2011 = df[df['year'] == 2011] #same but with 2011\n",
        "vacant_2011 = (df_2011.at[10, 'value'] / df_2011.at[9, 'value']) * 100\n",
        "vacant_2011 = float(\"{:.2f}\".format(vacant_2011))\n",
        "vacant.append(vacant_2011)\n",
        "\n",
        "occupied_2011 = (df_2011.at[11, 'value'] / df_2011.at[9, 'value']) * 100\n",
        "occupied_2011 = float(\"{:.2f}\".format(occupied_2011))\n",
        "occupied.append(occupied_2011)\n",
        "\n",
        "df_2012 = df[df['year'] == 2012] #same but with 2012\n",
        "vacant_2012 = (df_2012.at[7, 'value'] / df_2012.at[6, 'value']) * 100\n",
        "vacant_2012 = float(\"{:.2f}\".format(vacant_2012))\n",
        "vacant.append(vacant_2012)\n",
        "\n",
        "occupied_2012 = (df_2012.at[8, 'value'] / df_2012.at[6, 'value']) * 100\n",
        "occupied_2012 = float(\"{:.2f}\".format(occupied_2012))\n",
        "occupied.append(occupied_2012)\n",
        "\n",
        "df_2013 = df[df['year'] == 2013] #same but with 2013\n",
        "vacant_2013 = (df_2013.at[4, 'value'] / df_2013.at[3, 'value']) * 100\n",
        "vacant_2013 = float(\"{:.2f}\".format(vacant_2013))\n",
        "vacant.append(vacant_2013)\n",
        "\n",
        "occupied_2013 = (df_2013.at[5, 'value'] / df_2013.at[3, 'value']) * 100\n",
        "occupied_2013 = float(\"{:.2f}\".format(occupied_2013))\n",
        "occupied.append(occupied_2013)\n",
        "\n",
        "df_2014 = df[df['year'] == 2014] #same but with 2014\n",
        "vacant_2014 = (df_2014.at[1, 'value'] / df_2014.at[0, 'value']) * 100\n",
        "vacant_2014 = float(\"{:.2f}\".format(vacant_2014))\n",
        "vacant.append(vacant_2014)\n",
        "\n",
        "occupied_2014 = (df_2014.at[2, 'value'] / df_2014.at[0, 'value']) * 100\n",
        "occupied_2014 = float(\"{:.2f}\".format(occupied_2014))\n",
        "occupied.append(occupied_2014)\n",
        "\n",
        "data_2 = {'Year':year, 'Percent Vacant Housing':vacant, 'Percent Occupied Housing':occupied}\n",
        "percent_df = pd.DataFrame(data_2) #create dataframe using percentages in the two lists above\n",
        "print(percent_df)\n",
        "#part c\n",
        "another_df = df[df['title_field'] == 'Vacant Housing Units'] #limit dataframe to just vacant housing\n",
        "max_vacant = another_df[another_df.value == another_df.value.max()] #find which row has the highest number for the value\n",
        "third_df = df[df['title_field'] == 'Occupied Housing Units'] #limit dataframe to just occupied housing\n",
        "max_occupied = third_df[third_df.value == third_df.value.max()] #find which row has the highest number for the value\n",
        "#print(max_vacant)\n",
        "#print(max_occupied)\n",
        "data_3 = {\"Year\":[2008, 2014], \"Value\":[4483, 46295]}\n",
        "df_3 = pd.DataFrame(data_3, index = [\"Vacant Housing Units\", \"Occupied Housing Units\"]) #create dataframe using max values found above\n",
        "print(df_3)\n",
        "#part d\n",
        "final_df = df[df['title_field'] == 'Total Housing Units'] #limit dataframe to just total housing units\n",
        "final_list = list(final_df['value']) #convert numbers in value column into list\n",
        "harmonic_mean = statistics.harmonic_mean(final_list) #use statistics to find harmonic mean of numbers in list\n",
        "print(harmonic_mean)"
      ]
    },
    {
      "cell_type": "markdown",
      "source": [
        "# **For question 6 and 7 you can take AI assitance to solve.**\n",
        "\n",
        "Make sure you follow the instructions given in class to answer these questions.\n",
        "\n",
        "\n",
        "**Important points:**\n",
        "\n",
        "1.   You must come up with at least 10 edge cases.\n",
        "2.   You should provide prompts and revised prompts given to ChatGPT.\n",
        "2.   Debug your code and write comments for each block of code\n",
        "3.   Analyzing error will not consider as edge case.\n",
        "\n",
        "Edge cases are like real life scienarios which are realated to the given question."
      ],
      "metadata": {
        "id": "DB9XtkavJmsO"
      }
    },
    {
      "cell_type": "markdown",
      "source": [
        "# Question 6 (20 points).\n",
        "Develop a advance Python program to manage inventory records for a prodcut managing company. The system needs functions for adding, deleting and changing products and basic search options. Your system should use CSV files to automate restocking and produce reports that show item values alongside category breakdowns. Manage edge cases and corrupted CSV files. Finally maintaine 50 products of different categories in inventory."
      ],
      "metadata": {
        "id": "BAfp-70D2Cay"
      }
    },
    {
      "cell_type": "code",
      "source": [
        "# Your code here"
      ],
      "metadata": {
        "id": "w8dE2dJb2quE"
      },
      "execution_count": null,
      "outputs": []
    },
    {
      "cell_type": "markdown",
      "source": [
        "# Question 7 (20 points)\n",
        "\n",
        "Create a well desined Python program for a flight booking system. Offer core functions for adding new flights, finding trips, reserving and releasing seating space and creating performance reports. Ensure the system manages edge cases like invalid input, overbooking, and cancellations. Finally, extend the booking system by including advanced features and maintain about 50 flight in the system."
      ],
      "metadata": {
        "id": "290UJiNg2xES"
      }
    },
    {
      "cell_type": "code",
      "source": [
        "# Your code here\n"
      ],
      "metadata": {
        "id": "dME5iWD53ADa"
      },
      "execution_count": null,
      "outputs": []
    },
    {
      "cell_type": "markdown",
      "source": [
        "# Mandatory Question\n",
        "\n",
        "Provide your thoughts on the assignment. What did you find challenging, and what aspects did you enjoy? Your opinion on the provided time to complete the assignment. Share any suggestions for improvement. Your feedback will be valuable for enhancing the learning experience."
      ],
      "metadata": {
        "id": "q8BFCvWp32cf"
      }
    },
    {
      "cell_type": "code",
      "source": [
        "# Write your response below"
      ],
      "metadata": {
        "id": "_e557s2w4BpK"
      },
      "execution_count": null,
      "outputs": []
    }
  ],
  "metadata": {
    "colab": {
      "provenance": [],
      "include_colab_link": true
    },
    "kernelspec": {
      "display_name": "Python 3 (ipykernel)",
      "language": "python",
      "name": "python3"
    },
    "language_info": {
      "codemirror_mode": {
        "name": "ipython",
        "version": 3
      },
      "file_extension": ".py",
      "mimetype": "text/x-python",
      "name": "python",
      "nbconvert_exporter": "python",
      "pygments_lexer": "ipython3",
      "version": "3.9.12"
    }
  },
  "nbformat": 4,
  "nbformat_minor": 0
}